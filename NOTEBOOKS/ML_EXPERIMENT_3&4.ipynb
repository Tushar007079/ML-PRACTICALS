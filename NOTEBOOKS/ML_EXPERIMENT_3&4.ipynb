{
  "nbformat": 4,
  "nbformat_minor": 0,
  "metadata": {
    "colab": {
      "provenance": []
    },
    "kernelspec": {
      "name": "python3",
      "display_name": "Python 3"
    },
    "language_info": {
      "name": "python"
    }
  },
  "cells": [
    {
      "cell_type": "markdown",
      "source": [
        "# ***Student Name: Tushar Panchal***\n",
        "\n",
        "# ***En. No. : 21162101014***\n",
        "\n",
        "# ***Branch: CBA***\n",
        "\n",
        "# ***Batch:  71***\n",
        "\n",
        "# ***Subject: ML (Machine Learning)***"
      ],
      "metadata": {
        "id": "VBSVLX2O79nk"
      }
    },
    {
      "cell_type": "markdown",
      "source": [
        "# **EXPERIMENT 3 and 4**\n",
        "# Implement linear regression for given dataset and find model which has highest r2 score and minimum MSE\n"
      ],
      "metadata": {
        "id": "-6ytBEjy77pO"
      }
    },
    {
      "cell_type": "markdown",
      "source": [
        "#Instructions:\n",
        "Understand the problem statement properly\n",
        "Clean dataset assigned to you\n",
        "List of important attributes with proper justification\n",
        "Read sample linear regression code\n",
        "Answer following questions in a pdf file:\n",
        "1. List down all the important attributes in the dataset\n",
        "2. Write down the models you have compared.\n",
        "3. Write down the model which has highest r2 score and minimum MSE"
      ],
      "metadata": {
        "id": "Qw5w0wPOs5cL"
      }
    },
    {
      "cell_type": "code",
      "source": [
        "from google.colab import drive\n",
        "drive.mount('/content/drive')"
      ],
      "metadata": {
        "colab": {
          "base_uri": "https://localhost:8080/"
        },
        "id": "FZhxZ44FtCQ0",
        "outputId": "b25f8c19-12af-4da1-b9ae-90b3fa948356"
      },
      "execution_count": null,
      "outputs": [
        {
          "output_type": "stream",
          "name": "stdout",
          "text": [
            "Mounted at /content/drive\n"
          ]
        }
      ]
    },
    {
      "cell_type": "markdown",
      "source": [
        "# **IMPORT** **DATASETS**"
      ],
      "metadata": {
        "id": "G840ZxKQ14Ho"
      }
    },
    {
      "cell_type": "code",
      "source": [
        "from os import path\n",
        "import pandas as pd\n",
        "import numpy as np\n",
        "\n",
        "#load bike data\n",
        "path_bike = \"/content/drive/MyDrive/ML_DATASETS/ML_3_4/bikedata_daywise.csv\"\n",
        "df_bike = pd.read_csv(path_bike,header=0)\n",
        "\n",
        "#Load Metro Data\n",
        "path_metro = \"/content/drive/MyDrive/Colab Notebooks/ML-3-4/metro.csv\"\n",
        "df_metro = pd.read_csv(path_metro,header=0)\n",
        "\n",
        "#Load Autos Data\n",
        "path_autos = \"/content/drive/MyDrive/Colab Notebooks/ML-3-4/autos.csv\"\n",
        "df_autos = pd.read_csv(path_autos,header=0)\n",
        "\n",
        "#Display the first five rows of each Dataframe to verify the loading process\n",
        "print(\"⭐️⭐️Bike Data⭐️⭐️\")\n",
        "print(df_bike.head(),\"\\n\")\n",
        "\n",
        "print(\"⭐️⭐️Metro Data⭐️⭐️\")\n",
        "print(df_metro.head(),\"\\n\")\n",
        "\n",
        "print(\"⭐️⭐️Autos Data⭐️⭐️\")\n",
        "print(df_autos.head(),\"\\n\")"
      ],
      "metadata": {
        "colab": {
          "base_uri": "https://localhost:8080/"
        },
        "id": "ng_Gwa3Rtjrd",
        "outputId": "9bd5c4a3-7d68-4b00-db33-0393ce353ecf"
      },
      "execution_count": null,
      "outputs": [
        {
          "output_type": "stream",
          "name": "stdout",
          "text": [
            "⭐️⭐️Bike Data⭐️⭐️\n",
            "   instant      dteday  season  yr  mnth  holiday  weekday  workingday  \\\n",
            "0        1  2011-01-01       1   0     1        0        6           0   \n",
            "1        2  2011-01-02       1   0     1        0        0           0   \n",
            "2        3  2011-01-03       1   0     1        0        1           1   \n",
            "3        4  2011-01-04       1   0     1        0        2           1   \n",
            "4        5  2011-01-05       1   0     1        0        3           1   \n",
            "\n",
            "   weathersit      temp     atemp       hum  windspeed  casual  registered  \\\n",
            "0           2  0.344167  0.363625  0.805833   0.160446     331         654   \n",
            "1           2  0.363478  0.353739  0.696087   0.248539     131         670   \n",
            "2           1  0.196364  0.189405  0.437273   0.248309     120        1229   \n",
            "3           1  0.200000  0.212122  0.590435   0.160296     108        1454   \n",
            "4           1  0.226957  0.229270  0.436957   0.186900      82        1518   \n",
            "\n",
            "    cnt  \n",
            "0   985  \n",
            "1   801  \n",
            "2  1349  \n",
            "3  1562  \n",
            "4  1600   \n",
            "\n",
            "⭐️⭐️Metro Data⭐️⭐️\n",
            "  holiday    temp  rain_1h  snow_1h  clouds_all weather_main  \\\n",
            "0     NaN  288.28      0.0      0.0          40       Clouds   \n",
            "1     NaN  289.36      0.0      0.0          75       Clouds   \n",
            "2     NaN  289.58      0.0      0.0          90       Clouds   \n",
            "3     NaN  290.13      0.0      0.0          90       Clouds   \n",
            "4     NaN  291.14      0.0      0.0          75       Clouds   \n",
            "\n",
            "  weather_description            date_time  traffic_volume  \n",
            "0    scattered clouds  2012-10-02 09:00:00            5545  \n",
            "1       broken clouds  2012-10-02 10:00:00            4516  \n",
            "2     overcast clouds  2012-10-02 11:00:00            4767  \n",
            "3     overcast clouds  2012-10-02 12:00:00            5026  \n",
            "4       broken clouds  2012-10-02 13:00:00            4918   \n",
            "\n",
            "⭐️⭐️Autos Data⭐️⭐️\n",
            "   normalized-losses         make fuel-type aspiration num-of-doors  \\\n",
            "0                NaN  alfa-romero       gas        std          two   \n",
            "1                NaN  alfa-romero       gas        std          two   \n",
            "2                NaN  alfa-romero       gas        std          two   \n",
            "3              164.0         audi       gas        std         four   \n",
            "4              164.0         audi       gas        std         four   \n",
            "\n",
            "    body-style drive-wheels engine-location  wheel-base  length  ...  \\\n",
            "0  convertible          rwd           front        88.6   168.8  ...   \n",
            "1  convertible          rwd           front        88.6   168.8  ...   \n",
            "2    hatchback          rwd           front        94.5   171.2  ...   \n",
            "3        sedan          fwd           front        99.8   176.6  ...   \n",
            "4        sedan          4wd           front        99.4   176.6  ...   \n",
            "\n",
            "   fuel-system  bore  stroke compression-ratio horsepower  peak-rpm city-mpg  \\\n",
            "0         mpfi  3.47    2.68               9.0      111.0    5000.0       21   \n",
            "1         mpfi  3.47    2.68               9.0      111.0    5000.0       21   \n",
            "2         mpfi  2.68    3.47               9.0      154.0    5000.0       19   \n",
            "3         mpfi  3.19    3.40              10.0      102.0    5500.0       24   \n",
            "4         mpfi  3.19    3.40               8.0      115.0    5500.0       18   \n",
            "\n",
            "   highway-mpg    price  symboling  \n",
            "0           27  13495.0          3  \n",
            "1           27  16500.0          3  \n",
            "2           26  16500.0          1  \n",
            "3           30  13950.0          2  \n",
            "4           22  17450.0          2  \n",
            "\n",
            "[5 rows x 26 columns] \n",
            "\n"
          ]
        }
      ]
    },
    {
      "cell_type": "markdown",
      "source": [
        "# **Clean** **Data**"
      ],
      "metadata": {
        "id": "dxOzkUgF1_c3"
      }
    },
    {
      "cell_type": "code",
      "source": [
        "def clean_data(df):\n",
        "  #Convert data columns to determine if present\n",
        "  if 'dteday' in df.columns:\n",
        "    df['dteday'] = pd.to_datetime(df['dteday'])\n",
        "  if 'data_time' in df.columns:\n",
        "    df['data_time'] = pd.to_datetime(df['data_time'])\n",
        "\n",
        "  #Replace Missing values with column means for numeric columns\n",
        "  numeric_columns = df.select_dtypes(include=[np.number]).columns\n",
        "  df[numeric_columns] = df[numeric_columns].fillna(df[numeric_columns].mean())\n",
        "\n",
        "  #Replace missing values in categorical columns with the mode\n",
        "  categorical_columns = df.select_dtypes(include=['object']).columns\n",
        "  for col in categorical_columns:\n",
        "    df[col].fillna(df[col].mode()[0],inplace=True)\n",
        "\n",
        "  return df\n",
        "\n",
        "#Clean each dataset\n",
        "df_bike_clean = clean_data(df_bike)\n",
        "df_metro_clean = clean_data(df_metro)\n",
        "df_autos_clean = clean_data(df_autos)\n",
        "\n",
        "#display the first few rows of each cleaned Dataframe to verify the cleaning process\n",
        "print(\"⭐️⭐️Cleaned Bike Data⭐️⭐️\")\n",
        "print(df_bike_clean.head(),\"\\n\")\n",
        "\n",
        "print(\"⭐️⭐️Cleaned Metro Data⭐️⭐️\")\n",
        "print(df_metro_clean.head(),\"\\n\")\n",
        "\n",
        "print(\"⭐️⭐️Cleaned Autos Data⭐️⭐️\")\n",
        "print(df_autos_clean.head(),\"\\n\")\n"
      ],
      "metadata": {
        "colab": {
          "base_uri": "https://localhost:8080/"
        },
        "id": "OQ7oZv761tA8",
        "outputId": "3cc28bf6-ba02-40ef-a72d-c7e734899290"
      },
      "execution_count": null,
      "outputs": [
        {
          "output_type": "stream",
          "name": "stdout",
          "text": [
            "⭐️⭐️Cleaned Bike Data⭐️⭐️\n",
            "   instant     dteday  season  yr  mnth  holiday  weekday  workingday  \\\n",
            "0        1 2011-01-01       1   0     1        0        6           0   \n",
            "1        2 2011-01-02       1   0     1        0        0           0   \n",
            "2        3 2011-01-03       1   0     1        0        1           1   \n",
            "3        4 2011-01-04       1   0     1        0        2           1   \n",
            "4        5 2011-01-05       1   0     1        0        3           1   \n",
            "\n",
            "   weathersit      temp     atemp       hum  windspeed  casual  registered  \\\n",
            "0           2  0.344167  0.363625  0.805833   0.160446     331         654   \n",
            "1           2  0.363478  0.353739  0.696087   0.248539     131         670   \n",
            "2           1  0.196364  0.189405  0.437273   0.248309     120        1229   \n",
            "3           1  0.200000  0.212122  0.590435   0.160296     108        1454   \n",
            "4           1  0.226957  0.229270  0.436957   0.186900      82        1518   \n",
            "\n",
            "    cnt  \n",
            "0   985  \n",
            "1   801  \n",
            "2  1349  \n",
            "3  1562  \n",
            "4  1600   \n",
            "\n",
            "⭐️⭐️Cleaned Metro Data⭐️⭐️\n",
            "     holiday    temp  rain_1h  snow_1h  clouds_all weather_main  \\\n",
            "0  Labor Day  288.28      0.0      0.0          40       Clouds   \n",
            "1  Labor Day  289.36      0.0      0.0          75       Clouds   \n",
            "2  Labor Day  289.58      0.0      0.0          90       Clouds   \n",
            "3  Labor Day  290.13      0.0      0.0          90       Clouds   \n",
            "4  Labor Day  291.14      0.0      0.0          75       Clouds   \n",
            "\n",
            "  weather_description            date_time  traffic_volume  \n",
            "0    scattered clouds  2012-10-02 09:00:00            5545  \n",
            "1       broken clouds  2012-10-02 10:00:00            4516  \n",
            "2     overcast clouds  2012-10-02 11:00:00            4767  \n",
            "3     overcast clouds  2012-10-02 12:00:00            5026  \n",
            "4       broken clouds  2012-10-02 13:00:00            4918   \n",
            "\n",
            "⭐️⭐️Cleaned Autos Data⭐️⭐️\n",
            "   normalized-losses         make fuel-type aspiration num-of-doors  \\\n",
            "0              122.0  alfa-romero       gas        std          two   \n",
            "1              122.0  alfa-romero       gas        std          two   \n",
            "2              122.0  alfa-romero       gas        std          two   \n",
            "3              164.0         audi       gas        std         four   \n",
            "4              164.0         audi       gas        std         four   \n",
            "\n",
            "    body-style drive-wheels engine-location  wheel-base  length  ...  \\\n",
            "0  convertible          rwd           front        88.6   168.8  ...   \n",
            "1  convertible          rwd           front        88.6   168.8  ...   \n",
            "2    hatchback          rwd           front        94.5   171.2  ...   \n",
            "3        sedan          fwd           front        99.8   176.6  ...   \n",
            "4        sedan          4wd           front        99.4   176.6  ...   \n",
            "\n",
            "   fuel-system  bore  stroke compression-ratio horsepower  peak-rpm city-mpg  \\\n",
            "0         mpfi  3.47    2.68               9.0      111.0    5000.0       21   \n",
            "1         mpfi  3.47    2.68               9.0      111.0    5000.0       21   \n",
            "2         mpfi  2.68    3.47               9.0      154.0    5000.0       19   \n",
            "3         mpfi  3.19    3.40              10.0      102.0    5500.0       24   \n",
            "4         mpfi  3.19    3.40               8.0      115.0    5500.0       18   \n",
            "\n",
            "   highway-mpg    price  symboling  \n",
            "0           27  13495.0          3  \n",
            "1           27  16500.0          3  \n",
            "2           26  16500.0          1  \n",
            "3           30  13950.0          2  \n",
            "4           22  17450.0          2  \n",
            "\n",
            "[5 rows x 26 columns] \n",
            "\n"
          ]
        },
        {
          "output_type": "stream",
          "name": "stderr",
          "text": [
            "<ipython-input-3-8f957a9250ff>:15: FutureWarning: A value is trying to be set on a copy of a DataFrame or Series through chained assignment using an inplace method.\n",
            "The behavior will change in pandas 3.0. This inplace method will never work because the intermediate object on which we are setting values always behaves as a copy.\n",
            "\n",
            "For example, when doing 'df[col].method(value, inplace=True)', try using 'df.method({col: value}, inplace=True)' or df[col] = df[col].method(value) instead, to perform the operation inplace on the original object.\n",
            "\n",
            "\n",
            "  df[col].fillna(df[col].mode()[0],inplace=True)\n",
            "<ipython-input-3-8f957a9250ff>:15: FutureWarning: A value is trying to be set on a copy of a DataFrame or Series through chained assignment using an inplace method.\n",
            "The behavior will change in pandas 3.0. This inplace method will never work because the intermediate object on which we are setting values always behaves as a copy.\n",
            "\n",
            "For example, when doing 'df[col].method(value, inplace=True)', try using 'df.method({col: value}, inplace=True)' or df[col] = df[col].method(value) instead, to perform the operation inplace on the original object.\n",
            "\n",
            "\n",
            "  df[col].fillna(df[col].mode()[0],inplace=True)\n"
          ]
        }
      ]
    },
    {
      "cell_type": "markdown",
      "source": [
        "# **LinearRegression-Model for Bike Data**"
      ],
      "metadata": {
        "id": "hrj7nxd65VrZ"
      }
    },
    {
      "cell_type": "code",
      "source": [
        "from sklearn.model_selection import train_test_split, cross_val_score\n",
        "from sklearn.linear_model import LinearRegression\n",
        "from sklearn.metrics import r2_score\n",
        "\n",
        "#preapare the data for regression\n",
        "x_bike= df_bike_clean[['temp', 'atemp', 'hum', 'windspeed']] #Features selected\n",
        "y_bike= df_bike_clean['cnt'] #Target Variable\n",
        "\n",
        "#Split the data into training and testing sets\n",
        "x_train_bike,x_test_bike,y_train_bike,y_test_bike = train_test_split(x_bike,y_bike,test_size=0.2,random_state=42)\n",
        "\n",
        "lr_bike = LinearRegression()\n",
        "\n",
        "#Train the Model on the training data\n",
        "lr_bike.fit(x_train_bike,y_train_bike)\n",
        "\n",
        "#Make Prediction on the test data\n",
        "y_pred_bike=lr_bike.predict(x_test_bike)\n",
        "\n",
        "#Evaluate the model using R^2 score\n",
        "r2_bike=r2_score(y_test_bike,y_pred_bike)\n",
        "print(f\"Linear Regression R^2 Score for Bike Data: {r2_bike:.4f}\")\n",
        "\n",
        "#Perform cross-validation and calculate the mean cross-validation score\n",
        "cv_scores_bike = cross_val_score(lr_bike,x_bike,y_bike,cv=5)\n",
        "cv_mean_bike = np.mean(cv_scores_bike)\n",
        "print(f\"Linear Regression Cross-Validation Score for Bike Data: {cv_mean_bike:.4f}\")"
      ],
      "metadata": {
        "colab": {
          "base_uri": "https://localhost:8080/"
        },
        "id": "h9fkT_sK4NAv",
        "outputId": "e98c83ef-cb58-4d06-af59-1f6587060ba0"
      },
      "execution_count": null,
      "outputs": [
        {
          "output_type": "stream",
          "name": "stdout",
          "text": [
            "Linear Regression R^2 Score for Bike Data: 0.4995\n",
            "Linear Regression Cross-Validation Score for Bike Data: -1.9649\n"
          ]
        }
      ]
    },
    {
      "cell_type": "markdown",
      "source": [
        "# **Ridge-Model on Bike Data**"
      ],
      "metadata": {
        "id": "w7TqgE--8opp"
      }
    },
    {
      "cell_type": "code",
      "source": [
        "from sklearn.linear_model import Ridge\n",
        "\n",
        "ridge_bike=Ridge(alpha=1.0)\n",
        "\n",
        "#Train the moden on the training data\n",
        "ridge_bike.fit(x_train_bike,y_train_bike)\n",
        "\n",
        "#Make prediction on the test data\n",
        "y_pred_ridge_bike=ridge_bike.predict(x_test_bike)\n",
        "\n",
        "#Evaluate the model using R^2 score\n",
        "r2_ridge_bike=r2_score(y_test_bike,y_pred_ridge_bike)\n",
        "print(f\"Ridge Regression R^2 Score for Bike Data: {r2_ridge_bike:.4f}\")\n",
        "\n",
        "#Perform cross-validation and calculate mean cross-validation score\n",
        "cv_scores_ridge_bike=cross_val_score(ridge_bike,x_bike,y_bike,cv=5)\n",
        "cv_mean_ridge_bike=np.mean(cv_scores_ridge_bike)\n",
        "print(f\"Ridge Regression Cross-Validation Score for Bike Data: {cv_mean_ridge_bike:.4f}\")"
      ],
      "metadata": {
        "colab": {
          "base_uri": "https://localhost:8080/"
        },
        "id": "Qd3c6Rs18bFS",
        "outputId": "97bb4051-7a38-4891-91c3-388d3d6410a2"
      },
      "execution_count": null,
      "outputs": [
        {
          "output_type": "stream",
          "name": "stdout",
          "text": [
            "Ridge Regression R^2 Score for Bike Data: 0.4869\n",
            "Ridge Regression Cross-Validation Score for Bike Data: -1.8712\n"
          ]
        }
      ]
    },
    {
      "cell_type": "markdown",
      "source": [
        "# **Lasso-Model on Bike Data**"
      ],
      "metadata": {
        "id": "KQ1tTO_r9hS1"
      }
    },
    {
      "cell_type": "code",
      "source": [
        "from sklearn.preprocessing import StandardScaler\n",
        "from sklearn.linear_model import Lasso\n",
        "from sklearn.model_selection import train_test_split, cross_val_score\n",
        "from sklearn.metrics import r2_score\n",
        "import numpy as np\n",
        "\n",
        "# Standardize the features\n",
        "scaler = StandardScaler()\n",
        "X_bike_scaled = scaler.fit_transform(x_bike)\n",
        "\n",
        "# Split the scaled data into training and testing sets\n",
        "X_train_bike_scaled, X_test_bike_scaled, y_train_bike, y_test_bike = train_test_split(X_bike_scaled, y_bike, test_size=0.2, random_state=42)\n",
        "\n",
        "# Initialize Lasso with increased max_iter\n",
        "lasso_bike = Lasso(alpha=0.1, max_iter=10000)\n",
        "\n",
        "# Train the model on the scaled training data\n",
        "lasso_bike.fit(X_train_bike_scaled, y_train_bike)\n",
        "\n",
        "# Make predictions on the scaled test data\n",
        "y_pred_lasso_bike = lasso_bike.predict(X_test_bike_scaled)\n",
        "\n",
        "# Evaluate the model using R² score\n",
        "r2_lasso_bike = r2_score(y_test_bike, y_pred_lasso_bike)\n",
        "print(f\"Lasso Regression R² Score for Bike Dataset (Scaled): {r2_lasso_bike:.4f}\")\n",
        "\n",
        "# Perform cross-validation and calculate the mean cross-validation score\n",
        "cv_scores_lasso_bike = cross_val_score(lasso_bike, X_bike_scaled, y_bike, cv=5)\n",
        "cv_mean_lasso_bike = np.mean(cv_scores_lasso_bike)\n",
        "print(f\"Lasso Regression Cross-Validation Score for Bike Dataset (Scaled): {cv_mean_lasso_bike:.4f}\")"
      ],
      "metadata": {
        "id": "OYVP99R59mFZ",
        "colab": {
          "base_uri": "https://localhost:8080/"
        },
        "outputId": "1e5c2ebd-caf5-4d14-b507-acc410dcba3e"
      },
      "execution_count": null,
      "outputs": [
        {
          "output_type": "stream",
          "name": "stdout",
          "text": [
            "Lasso Regression R² Score for Bike Dataset (Scaled): 0.4994\n",
            "Lasso Regression Cross-Validation Score for Bike Dataset (Scaled): -1.9648\n"
          ]
        }
      ]
    },
    {
      "cell_type": "markdown",
      "source": [
        "# **LinearRegression-Model for Metro Data**"
      ],
      "metadata": {
        "id": "4qPMjsFkhtjq"
      }
    },
    {
      "cell_type": "code",
      "source": [
        "# Prepare the data for regression\n",
        "X_metro = df_metro_clean[['temp', 'rain_1h', 'snow_1h', 'clouds_all']]  # Features selected\n",
        "y_metro = df_metro_clean['traffic_volume']  # Target variable\n",
        "\n",
        "# Split the data into training and testing sets\n",
        "X_train_metro, X_test_metro, y_train_metro, y_test_metro = train_test_split(X_metro, y_metro, test_size=0.2, random_state=42)\n",
        "\n",
        "# Initialize the Linear Regression model\n",
        "lr_metro = LinearRegression()\n",
        "\n",
        "# Train the model on the training data\n",
        "lr_metro.fit(X_train_metro, y_train_metro)\n",
        "\n",
        "# Make predictions on the test data\n",
        "y_pred_metro = lr_metro.predict(X_test_metro)\n",
        "\n",
        "# Evaluate the model using R² score\n",
        "r2_metro = r2_score(y_test_metro, y_pred_metro)\n",
        "print(f\"Linear Regression R² Score for Metro Dataset: {r2_metro:.4f}\")\n",
        "\n",
        "# Perform cross-validation and calculate the mean cross-validation score\n",
        "cv_scores_metro = cross_val_score(lr_metro, X_metro, y_metro, cv=5)\n",
        "cv_mean_metro = np.mean(cv_scores_metro)\n",
        "print(f\"Linear Regression Cross-Validation Score for Metro Dataset: {cv_mean_metro:.4f}\")\n"
      ],
      "metadata": {
        "colab": {
          "base_uri": "https://localhost:8080/"
        },
        "id": "3UkYvEp6hvqh",
        "outputId": "7b1d82cf-aa86-4f27-871d-93efdd9a747b"
      },
      "execution_count": null,
      "outputs": [
        {
          "output_type": "stream",
          "name": "stdout",
          "text": [
            "Linear Regression R² Score for Metro Dataset: 0.0234\n",
            "Linear Regression Cross-Validation Score for Metro Dataset: -2.5345\n"
          ]
        }
      ]
    },
    {
      "cell_type": "markdown",
      "source": [
        "# **Ridge-Model on Metro Data**"
      ],
      "metadata": {
        "id": "0vn--fY_iF8J"
      }
    },
    {
      "cell_type": "code",
      "source": [
        "# Initialize the Ridge Regression model\n",
        "ridge_metro = Ridge(alpha=1.0)\n",
        "\n",
        "# Train the model on the training data\n",
        "ridge_metro.fit(X_train_metro, y_train_metro)\n",
        "\n",
        "# Make predictions on the test data\n",
        "y_pred_ridge_metro = ridge_metro.predict(X_test_metro)\n",
        "\n",
        "# Evaluate the model using R² score\n",
        "r2_ridge_metro = r2_score(y_test_metro, y_pred_ridge_metro)\n",
        "print(f\"Ridge Regression R² Score for Metro Dataset: {r2_ridge_metro:.4f}\")\n",
        "\n",
        "# Perform cross-validation and calculate the mean cross-validation score\n",
        "cv_scores_ridge_metro = cross_val_score(ridge_metro, X_metro, y_metro, cv=5)\n",
        "cv_mean_ridge_metro = np.mean(cv_scores_ridge_metro)\n",
        "print(f\"Ridge Regression Cross-Validation Score for Metro Dataset: {cv_mean_ridge_metro:.4f}\")"
      ],
      "metadata": {
        "colab": {
          "base_uri": "https://localhost:8080/"
        },
        "id": "KY0L_Ad4iKTJ",
        "outputId": "8e18a56f-41eb-40ab-b849-8c9307ead116"
      },
      "execution_count": null,
      "outputs": [
        {
          "output_type": "stream",
          "name": "stdout",
          "text": [
            "Ridge Regression R² Score for Metro Dataset: 0.0234\n",
            "Ridge Regression Cross-Validation Score for Metro Dataset: -2.5344\n"
          ]
        }
      ]
    },
    {
      "cell_type": "markdown",
      "source": [
        "# **Lasso-Model on Metro Data**"
      ],
      "metadata": {
        "id": "Jj7MUcToigEB"
      }
    },
    {
      "cell_type": "code",
      "source": [
        "# Feature Scaling\n",
        "scaler = StandardScaler()\n",
        "X_metro_scaled = scaler.fit_transform(X_metro)\n",
        "\n",
        "# Initialize Lasso Regression model\n",
        "lasso_metro = Lasso(alpha=1.0, max_iter=10000)\n",
        "\n",
        "# Train the model on the training data\n",
        "lasso_metro.fit(X_train_metro, y_train_metro)\n",
        "\n",
        "# Make predictions on the test data\n",
        "y_pred_lasso_metro = lasso_metro.predict(X_test_metro)\n",
        "\n",
        "# Evaluate the model using R² score\n",
        "r2_lasso_metro = r2_score(y_test_metro, y_pred_lasso_metro)\n",
        "print(f\"Lasso Regression R² Score for Metro Dataset: {r2_lasso_metro:.4f}\")\n",
        "\n",
        "# Perform cross-validation and calculate the mean cross-validation score\n",
        "cv_scores_lasso_metro = cross_val_score(lasso_metro, X_metro_scaled, y_metro, cv=5)\n",
        "cv_mean_lasso_metro = np.mean(cv_scores_lasso_metro)\n",
        "print(f\"Lasso Regression Cross-Validation Score for Metro Dataset: {cv_mean_lasso_metro:.4f}\")\n"
      ],
      "metadata": {
        "colab": {
          "base_uri": "https://localhost:8080/"
        },
        "id": "RNqH-NQfihfB",
        "outputId": "156de8e1-4818-4423-d0bf-e3966db27e6e"
      },
      "execution_count": null,
      "outputs": [
        {
          "output_type": "stream",
          "name": "stdout",
          "text": [
            "Lasso Regression R² Score for Metro Dataset: 0.0234\n",
            "Lasso Regression Cross-Validation Score for Metro Dataset: -0.3194\n"
          ]
        }
      ]
    },
    {
      "cell_type": "markdown",
      "source": [
        "# **LinearRegression-Model for Auto Data**"
      ],
      "metadata": {
        "id": "ZuPNGMUJisD5"
      }
    },
    {
      "cell_type": "code",
      "source": [
        "# Drop rows with missing target values\n",
        "df_autos_clean = df_autos_clean.dropna(subset=['price'])\n",
        "\n",
        "# Convert categorical variables to dummy variables\n",
        "df_autos_clean = pd.get_dummies(df_autos_clean, columns=['make', 'fuel-type', 'aspiration', 'num-of-doors',\n",
        "'body-style', 'drive-wheels', 'engine-location', 'engine-type', 'num-of-cylinders', 'fuel-system'], drop_first=True)\n",
        "\n",
        "# Prepare the data for regression\n",
        "X_autos = df_autos_clean.drop(columns=['price'])  # Features\n",
        "y_autos = df_autos_clean['price']  # Target variable\n",
        "\n",
        "# Split the data into training and testing sets\n",
        "X_train_autos, X_test_autos, y_train_autos, y_test_autos = train_test_split(X_autos, y_autos, test_size=0.2, random_state=42)\n",
        "\n",
        "# Initialize Linear Regression model\n",
        "lr_autos = LinearRegression()\n",
        "\n",
        "# Train the model on the training data\n",
        "lr_autos.fit(X_train_autos, y_train_autos)\n",
        "\n",
        "# Make predictions on the test data\n",
        "y_pred_autos = lr_autos.predict(X_test_autos)\n",
        "\n",
        "# Evaluate the model using R² score\n",
        "r2_autos = r2_score(y_test_autos, y_pred_autos)\n",
        "print(f\"Linear Regression R² Score for Autos Dataset: {r2_autos:.4f}\")\n",
        "\n",
        "# Perform cross-validation and calculate the mean cross-validation score\n",
        "cv_scores_autos = cross_val_score(lr_autos, X_autos, y_autos, cv=5)\n",
        "cv_mean_autos = np.mean(cv_scores_autos)\n",
        "print(f\"Linear Regression Cross-Validation Score for Autos Dataset: {cv_mean_autos:.4f}\")\n"
      ],
      "metadata": {
        "colab": {
          "base_uri": "https://localhost:8080/"
        },
        "id": "TmOyog3eiuNp",
        "outputId": "3ce2b63d-04cb-4968-bc33-28a6198cbdda"
      },
      "execution_count": null,
      "outputs": [
        {
          "output_type": "stream",
          "name": "stdout",
          "text": [
            "Linear Regression R² Score for Autos Dataset: 0.8902\n",
            "Linear Regression Cross-Validation Score for Autos Dataset: -0.1857\n"
          ]
        }
      ]
    },
    {
      "cell_type": "markdown",
      "source": [
        "# **Ridge-Model on Auto Data**"
      ],
      "metadata": {
        "id": "HaThjCmiiwzB"
      }
    },
    {
      "cell_type": "code",
      "source": [
        "# Initialize Ridge Regression model\n",
        "ridge_autos = Ridge(alpha=1.0)\n",
        "\n",
        "# Train the model on the training data\n",
        "ridge_autos.fit(X_train_autos, y_train_autos)\n",
        "\n",
        "# Make predictions on the test data\n",
        "y_pred_ridge_autos = ridge_autos.predict(X_test_autos)\n",
        "\n",
        "# Evaluate the model using R² score\n",
        "r2_ridge_autos = r2_score(y_test_autos, y_pred_ridge_autos)\n",
        "print(f\"Ridge Regression R² Score for Autos Dataset: {r2_ridge_autos:.4f}\")\n",
        "\n",
        "# Perform cross-validation and calculate the mean cross-validation score\n",
        "cv_scores_ridge_autos = cross_val_score(ridge_autos, X_autos, y_autos, cv=5)\n",
        "cv_mean_ridge_autos = np.mean(cv_scores_ridge_autos)\n",
        "print(f\"Ridge Regression Cross-Validation Score for Autos Dataset: {cv_mean_ridge_autos:.4f}\")\n"
      ],
      "metadata": {
        "colab": {
          "base_uri": "https://localhost:8080/"
        },
        "id": "5ezPDAEFix0p",
        "outputId": "4277d960-e600-4a4e-b83d-6bbbe9358873"
      },
      "execution_count": null,
      "outputs": [
        {
          "output_type": "stream",
          "name": "stdout",
          "text": [
            "Ridge Regression R² Score for Autos Dataset: 0.8806\n",
            "Ridge Regression Cross-Validation Score for Autos Dataset: 0.3715\n"
          ]
        }
      ]
    },
    {
      "cell_type": "markdown",
      "source": [
        "# **Lasso-Model on Auto Data**"
      ],
      "metadata": {
        "id": "ztBuFkjVizVJ"
      }
    },
    {
      "cell_type": "code",
      "source": [
        "# Feature Scaling\n",
        "scaler = StandardScaler()\n",
        "X_autos_scaled = scaler.fit_transform(X_autos)\n",
        "\n",
        "# Initialize Lasso Regression model\n",
        "lasso_autos = Lasso(alpha=1.0, max_iter=10000)\n",
        "\n",
        "# Train the model on the training data\n",
        "lasso_autos.fit(X_train_autos, y_train_autos)\n",
        "\n",
        "# Make predictions on the test data\n",
        "y_pred_lasso_autos = lasso_autos.predict(X_test_autos)\n",
        "\n",
        "# Evaluate the model using R² score\n",
        "r2_lasso_autos = r2_score(y_test_autos, y_pred_lasso_autos)\n",
        "print(f\"Lasso Regression R² Score for Autos Dataset: {r2_lasso_autos:.4f}\")\n",
        "\n",
        "# Perform cross-validation and calculate the mean cross-validation score\n",
        "cv_scores_lasso_autos = cross_val_score(lasso_autos, X_autos_scaled, y_autos, cv=5)\n",
        "cv_mean_lasso_autos = np.mean(cv_scores_lasso_autos)\n",
        "print(f\"Lasso Regression Cross-Validation Score for Autos Dataset: {cv_mean_lasso_autos:.4f}\")\n"
      ],
      "metadata": {
        "colab": {
          "base_uri": "https://localhost:8080/"
        },
        "id": "ZyrjYJqGi0iw",
        "outputId": "801a70ee-950a-4086-8f2f-49c6dfeaa659"
      },
      "execution_count": null,
      "outputs": [
        {
          "output_type": "stream",
          "name": "stdout",
          "text": [
            "Lasso Regression R² Score for Autos Dataset: 0.8894\n",
            "Lasso Regression Cross-Validation Score for Autos Dataset: 0.1326\n"
          ]
        }
      ]
    },
    {
      "cell_type": "markdown",
      "source": [
        "# **Comparison of each model for Bike Data**"
      ],
      "metadata": {
        "id": "RYDMBDkkjESA"
      }
    },
    {
      "cell_type": "code",
      "source": [
        "# Create a dictionary to hold the metrics\n",
        "metrics_bike = {\n",
        "    'Model': ['Linear Regression', 'Ridge Regression', 'Lasso Regression'],\n",
        "    'R² Score': [r2_bike, r2_ridge_bike, r2_lasso_bike],\n",
        "    'Cross-Validation Score': [cv_mean_bike, cv_mean_ridge_bike, cv_mean_lasso_bike]\n",
        "}\n",
        "\n",
        "# Create a DataFrame from the metrics dictionary\n",
        "df_metrics_bike = pd.DataFrame(metrics_bike)\n",
        "\n",
        "# Print the comparison\n",
        "print(\"Bike Data Model Comparison:\\n\")\n",
        "print(df_metrics_bike)"
      ],
      "metadata": {
        "colab": {
          "base_uri": "https://localhost:8080/"
        },
        "id": "P96cvExXjJ2n",
        "outputId": "b05df701-f3a6-4340-c508-7ee0cc48c766"
      },
      "execution_count": null,
      "outputs": [
        {
          "output_type": "stream",
          "name": "stdout",
          "text": [
            "Bike Data Model Comparison:\n",
            "\n",
            "               Model  R² Score  Cross-Validation Score\n",
            "0  Linear Regression  0.499472               -1.964897\n",
            "1   Ridge Regression  0.486895               -1.871240\n",
            "2   Lasso Regression  0.499442               -1.964756\n"
          ]
        }
      ]
    },
    {
      "cell_type": "markdown",
      "source": [
        "# **Comparison of each model for Metro Data**"
      ],
      "metadata": {
        "id": "rLnf2sWxjKHn"
      }
    },
    {
      "cell_type": "code",
      "source": [
        "# Create a dictionary to hold the metrics\n",
        "metrics_metro = {\n",
        "    'Model': ['Linear Regression', 'Ridge Regression', 'Lasso Regression'],\n",
        "    'R² Score': [r2_metro, r2_ridge_metro, r2_lasso_metro],\n",
        "    'Cross-Validation Score': [cv_mean_metro, cv_mean_ridge_metro, cv_mean_lasso_metro]\n",
        "}\n",
        "\n",
        "# Create a DataFrame from the metrics dictionary\n",
        "df_metrics_metro = pd.DataFrame(metrics_metro)\n",
        "\n",
        "# Print the comparison\n",
        "print(\"Metro Data Model Comparison:\")\n",
        "print(df_metrics_metro)\n"
      ],
      "metadata": {
        "colab": {
          "base_uri": "https://localhost:8080/"
        },
        "id": "sIaabVTpjLeo",
        "outputId": "5bff7041-1e96-4a9c-ac65-79371ff133d4"
      },
      "execution_count": null,
      "outputs": [
        {
          "output_type": "stream",
          "name": "stdout",
          "text": [
            "Metro Data Model Comparison:\n",
            "               Model  R² Score  Cross-Validation Score\n",
            "0  Linear Regression  0.023424               -2.534509\n",
            "1   Ridge Regression  0.023425               -2.534377\n",
            "2   Lasso Regression  0.023427               -0.319376\n"
          ]
        }
      ]
    },
    {
      "cell_type": "markdown",
      "source": [
        "# **Comparison of each model for Auto Data**"
      ],
      "metadata": {
        "id": "61LIwXa0jLyH"
      }
    },
    {
      "cell_type": "code",
      "source": [
        "# Create a dictionary to hold the metrics\n",
        "metrics_autos = {\n",
        "    'Model': ['Linear Regression', 'Ridge Regression', 'Lasso Regression'],\n",
        "    'R² Score': [r2_autos, r2_ridge_autos, r2_lasso_autos],\n",
        "    'Cross-Validation Score': [cv_mean_autos, cv_mean_ridge_autos, cv_mean_lasso_autos]\n",
        "}\n",
        "\n",
        "# Create a DataFrame from the metrics dictionary\n",
        "df_metrics_autos = pd.DataFrame(metrics_autos)\n",
        "\n",
        "# Print the comparison\n",
        "print(\"Autos Data Model Comparison:\")\n",
        "print(df_metrics_autos)"
      ],
      "metadata": {
        "colab": {
          "base_uri": "https://localhost:8080/"
        },
        "id": "o9UMBEZGjNMH",
        "outputId": "aa8b7de8-5ed9-49cd-b650-1deb4c38d35e"
      },
      "execution_count": null,
      "outputs": [
        {
          "output_type": "stream",
          "name": "stdout",
          "text": [
            "Autos Data Model Comparison:\n",
            "               Model  R² Score  Cross-Validation Score\n",
            "0  Linear Regression  0.890177               -0.185669\n",
            "1   Ridge Regression  0.880586                0.371468\n",
            "2   Lasso Regression  0.889406                0.132572\n"
          ]
        }
      ]
    }
  ]
}